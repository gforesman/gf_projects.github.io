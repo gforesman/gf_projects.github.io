{
 "cells": [
  {
   "cell_type": "markdown",
   "id": "d2a51bfa",
   "metadata": {},
   "source": [
    "Installing packages and pulling data "
   ]
  },
  {
   "cell_type": "code",
   "execution_count": 1,
   "id": "e4f8121f",
   "metadata": {},
   "outputs": [],
   "source": [
    "import pandas as pd \n",
    "import numpy as np \n",
    "import matplotlib.pyplot as plt\n",
    "import seaborn as sns\n",
    "from scipy import stats"
   ]
  },
  {
   "cell_type": "code",
   "execution_count": 2,
   "id": "fe7e9a3a",
   "metadata": {},
   "outputs": [
    {
     "data": {
      "text/html": [
       "<div>\n",
       "<style scoped>\n",
       "    .dataframe tbody tr th:only-of-type {\n",
       "        vertical-align: middle;\n",
       "    }\n",
       "\n",
       "    .dataframe tbody tr th {\n",
       "        vertical-align: top;\n",
       "    }\n",
       "\n",
       "    .dataframe thead th {\n",
       "        text-align: right;\n",
       "    }\n",
       "</style>\n",
       "<table border=\"1\" class=\"dataframe\">\n",
       "  <thead>\n",
       "    <tr style=\"text-align: right;\">\n",
       "      <th></th>\n",
       "      <th>Country</th>\n",
       "      <th>Year</th>\n",
       "      <th>Status</th>\n",
       "      <th>Life expectancy</th>\n",
       "      <th>Adult Mortality</th>\n",
       "      <th>infant deaths</th>\n",
       "      <th>Alcohol</th>\n",
       "      <th>percentage expenditure</th>\n",
       "      <th>Hepatitis B</th>\n",
       "      <th>Measles</th>\n",
       "      <th>...</th>\n",
       "      <th>Polio</th>\n",
       "      <th>Total expenditure</th>\n",
       "      <th>Diphtheria</th>\n",
       "      <th>HIV/AIDS</th>\n",
       "      <th>GDP</th>\n",
       "      <th>Population</th>\n",
       "      <th>thinness  1-19 years</th>\n",
       "      <th>thinness 5-9 years</th>\n",
       "      <th>Income composition of resources</th>\n",
       "      <th>Schooling</th>\n",
       "    </tr>\n",
       "  </thead>\n",
       "  <tbody>\n",
       "    <tr>\n",
       "      <th>0</th>\n",
       "      <td>Afghanistan</td>\n",
       "      <td>2015</td>\n",
       "      <td>Developing</td>\n",
       "      <td>65.0</td>\n",
       "      <td>263.0</td>\n",
       "      <td>62</td>\n",
       "      <td>0.01</td>\n",
       "      <td>71.279624</td>\n",
       "      <td>65.0</td>\n",
       "      <td>1154</td>\n",
       "      <td>...</td>\n",
       "      <td>6.0</td>\n",
       "      <td>8.16</td>\n",
       "      <td>65.0</td>\n",
       "      <td>0.1</td>\n",
       "      <td>584.259210</td>\n",
       "      <td>33736494.0</td>\n",
       "      <td>17.2</td>\n",
       "      <td>17.3</td>\n",
       "      <td>0.479</td>\n",
       "      <td>10.1</td>\n",
       "    </tr>\n",
       "    <tr>\n",
       "      <th>1</th>\n",
       "      <td>Afghanistan</td>\n",
       "      <td>2014</td>\n",
       "      <td>Developing</td>\n",
       "      <td>59.9</td>\n",
       "      <td>271.0</td>\n",
       "      <td>64</td>\n",
       "      <td>0.01</td>\n",
       "      <td>73.523582</td>\n",
       "      <td>62.0</td>\n",
       "      <td>492</td>\n",
       "      <td>...</td>\n",
       "      <td>58.0</td>\n",
       "      <td>8.18</td>\n",
       "      <td>62.0</td>\n",
       "      <td>0.1</td>\n",
       "      <td>612.696514</td>\n",
       "      <td>327582.0</td>\n",
       "      <td>17.5</td>\n",
       "      <td>17.5</td>\n",
       "      <td>0.476</td>\n",
       "      <td>10.0</td>\n",
       "    </tr>\n",
       "    <tr>\n",
       "      <th>2</th>\n",
       "      <td>Afghanistan</td>\n",
       "      <td>2013</td>\n",
       "      <td>Developing</td>\n",
       "      <td>59.9</td>\n",
       "      <td>268.0</td>\n",
       "      <td>66</td>\n",
       "      <td>0.01</td>\n",
       "      <td>73.219243</td>\n",
       "      <td>64.0</td>\n",
       "      <td>430</td>\n",
       "      <td>...</td>\n",
       "      <td>62.0</td>\n",
       "      <td>8.13</td>\n",
       "      <td>64.0</td>\n",
       "      <td>0.1</td>\n",
       "      <td>631.744976</td>\n",
       "      <td>31731688.0</td>\n",
       "      <td>17.7</td>\n",
       "      <td>17.7</td>\n",
       "      <td>0.470</td>\n",
       "      <td>9.9</td>\n",
       "    </tr>\n",
       "    <tr>\n",
       "      <th>3</th>\n",
       "      <td>Afghanistan</td>\n",
       "      <td>2012</td>\n",
       "      <td>Developing</td>\n",
       "      <td>59.5</td>\n",
       "      <td>272.0</td>\n",
       "      <td>69</td>\n",
       "      <td>0.01</td>\n",
       "      <td>78.184215</td>\n",
       "      <td>67.0</td>\n",
       "      <td>2787</td>\n",
       "      <td>...</td>\n",
       "      <td>67.0</td>\n",
       "      <td>8.52</td>\n",
       "      <td>67.0</td>\n",
       "      <td>0.1</td>\n",
       "      <td>669.959000</td>\n",
       "      <td>3696958.0</td>\n",
       "      <td>17.9</td>\n",
       "      <td>18.0</td>\n",
       "      <td>0.463</td>\n",
       "      <td>9.8</td>\n",
       "    </tr>\n",
       "    <tr>\n",
       "      <th>4</th>\n",
       "      <td>Afghanistan</td>\n",
       "      <td>2011</td>\n",
       "      <td>Developing</td>\n",
       "      <td>59.2</td>\n",
       "      <td>275.0</td>\n",
       "      <td>71</td>\n",
       "      <td>0.01</td>\n",
       "      <td>7.097109</td>\n",
       "      <td>68.0</td>\n",
       "      <td>3013</td>\n",
       "      <td>...</td>\n",
       "      <td>68.0</td>\n",
       "      <td>7.87</td>\n",
       "      <td>68.0</td>\n",
       "      <td>0.1</td>\n",
       "      <td>63.537231</td>\n",
       "      <td>2978599.0</td>\n",
       "      <td>18.2</td>\n",
       "      <td>18.2</td>\n",
       "      <td>0.454</td>\n",
       "      <td>9.5</td>\n",
       "    </tr>\n",
       "    <tr>\n",
       "      <th>...</th>\n",
       "      <td>...</td>\n",
       "      <td>...</td>\n",
       "      <td>...</td>\n",
       "      <td>...</td>\n",
       "      <td>...</td>\n",
       "      <td>...</td>\n",
       "      <td>...</td>\n",
       "      <td>...</td>\n",
       "      <td>...</td>\n",
       "      <td>...</td>\n",
       "      <td>...</td>\n",
       "      <td>...</td>\n",
       "      <td>...</td>\n",
       "      <td>...</td>\n",
       "      <td>...</td>\n",
       "      <td>...</td>\n",
       "      <td>...</td>\n",
       "      <td>...</td>\n",
       "      <td>...</td>\n",
       "      <td>...</td>\n",
       "      <td>...</td>\n",
       "    </tr>\n",
       "    <tr>\n",
       "      <th>2933</th>\n",
       "      <td>Zimbabwe</td>\n",
       "      <td>2004</td>\n",
       "      <td>Developing</td>\n",
       "      <td>44.3</td>\n",
       "      <td>723.0</td>\n",
       "      <td>27</td>\n",
       "      <td>4.36</td>\n",
       "      <td>0.000000</td>\n",
       "      <td>68.0</td>\n",
       "      <td>31</td>\n",
       "      <td>...</td>\n",
       "      <td>67.0</td>\n",
       "      <td>7.13</td>\n",
       "      <td>65.0</td>\n",
       "      <td>33.6</td>\n",
       "      <td>454.366654</td>\n",
       "      <td>12777511.0</td>\n",
       "      <td>9.4</td>\n",
       "      <td>9.4</td>\n",
       "      <td>0.407</td>\n",
       "      <td>9.2</td>\n",
       "    </tr>\n",
       "    <tr>\n",
       "      <th>2934</th>\n",
       "      <td>Zimbabwe</td>\n",
       "      <td>2003</td>\n",
       "      <td>Developing</td>\n",
       "      <td>44.5</td>\n",
       "      <td>715.0</td>\n",
       "      <td>26</td>\n",
       "      <td>4.06</td>\n",
       "      <td>0.000000</td>\n",
       "      <td>7.0</td>\n",
       "      <td>998</td>\n",
       "      <td>...</td>\n",
       "      <td>7.0</td>\n",
       "      <td>6.52</td>\n",
       "      <td>68.0</td>\n",
       "      <td>36.7</td>\n",
       "      <td>453.351155</td>\n",
       "      <td>12633897.0</td>\n",
       "      <td>9.8</td>\n",
       "      <td>9.9</td>\n",
       "      <td>0.418</td>\n",
       "      <td>9.5</td>\n",
       "    </tr>\n",
       "    <tr>\n",
       "      <th>2935</th>\n",
       "      <td>Zimbabwe</td>\n",
       "      <td>2002</td>\n",
       "      <td>Developing</td>\n",
       "      <td>44.8</td>\n",
       "      <td>73.0</td>\n",
       "      <td>25</td>\n",
       "      <td>4.43</td>\n",
       "      <td>0.000000</td>\n",
       "      <td>73.0</td>\n",
       "      <td>304</td>\n",
       "      <td>...</td>\n",
       "      <td>73.0</td>\n",
       "      <td>6.53</td>\n",
       "      <td>71.0</td>\n",
       "      <td>39.8</td>\n",
       "      <td>57.348340</td>\n",
       "      <td>125525.0</td>\n",
       "      <td>1.2</td>\n",
       "      <td>1.3</td>\n",
       "      <td>0.427</td>\n",
       "      <td>10.0</td>\n",
       "    </tr>\n",
       "    <tr>\n",
       "      <th>2936</th>\n",
       "      <td>Zimbabwe</td>\n",
       "      <td>2001</td>\n",
       "      <td>Developing</td>\n",
       "      <td>45.3</td>\n",
       "      <td>686.0</td>\n",
       "      <td>25</td>\n",
       "      <td>1.72</td>\n",
       "      <td>0.000000</td>\n",
       "      <td>76.0</td>\n",
       "      <td>529</td>\n",
       "      <td>...</td>\n",
       "      <td>76.0</td>\n",
       "      <td>6.16</td>\n",
       "      <td>75.0</td>\n",
       "      <td>42.1</td>\n",
       "      <td>548.587312</td>\n",
       "      <td>12366165.0</td>\n",
       "      <td>1.6</td>\n",
       "      <td>1.7</td>\n",
       "      <td>0.427</td>\n",
       "      <td>9.8</td>\n",
       "    </tr>\n",
       "    <tr>\n",
       "      <th>2937</th>\n",
       "      <td>Zimbabwe</td>\n",
       "      <td>2000</td>\n",
       "      <td>Developing</td>\n",
       "      <td>46.0</td>\n",
       "      <td>665.0</td>\n",
       "      <td>24</td>\n",
       "      <td>1.68</td>\n",
       "      <td>0.000000</td>\n",
       "      <td>79.0</td>\n",
       "      <td>1483</td>\n",
       "      <td>...</td>\n",
       "      <td>78.0</td>\n",
       "      <td>7.10</td>\n",
       "      <td>78.0</td>\n",
       "      <td>43.5</td>\n",
       "      <td>547.358878</td>\n",
       "      <td>12222251.0</td>\n",
       "      <td>11.0</td>\n",
       "      <td>11.2</td>\n",
       "      <td>0.434</td>\n",
       "      <td>9.8</td>\n",
       "    </tr>\n",
       "  </tbody>\n",
       "</table>\n",
       "<p>2938 rows × 22 columns</p>\n",
       "</div>"
      ],
      "text/plain": [
       "          Country  Year      Status  Life expectancy   Adult Mortality  \\\n",
       "0     Afghanistan  2015  Developing              65.0            263.0   \n",
       "1     Afghanistan  2014  Developing              59.9            271.0   \n",
       "2     Afghanistan  2013  Developing              59.9            268.0   \n",
       "3     Afghanistan  2012  Developing              59.5            272.0   \n",
       "4     Afghanistan  2011  Developing              59.2            275.0   \n",
       "...           ...   ...         ...               ...              ...   \n",
       "2933     Zimbabwe  2004  Developing              44.3            723.0   \n",
       "2934     Zimbabwe  2003  Developing              44.5            715.0   \n",
       "2935     Zimbabwe  2002  Developing              44.8             73.0   \n",
       "2936     Zimbabwe  2001  Developing              45.3            686.0   \n",
       "2937     Zimbabwe  2000  Developing              46.0            665.0   \n",
       "\n",
       "      infant deaths  Alcohol  percentage expenditure  Hepatitis B  Measles   \\\n",
       "0                62     0.01               71.279624         65.0      1154   \n",
       "1                64     0.01               73.523582         62.0       492   \n",
       "2                66     0.01               73.219243         64.0       430   \n",
       "3                69     0.01               78.184215         67.0      2787   \n",
       "4                71     0.01                7.097109         68.0      3013   \n",
       "...             ...      ...                     ...          ...       ...   \n",
       "2933             27     4.36                0.000000         68.0        31   \n",
       "2934             26     4.06                0.000000          7.0       998   \n",
       "2935             25     4.43                0.000000         73.0       304   \n",
       "2936             25     1.72                0.000000         76.0       529   \n",
       "2937             24     1.68                0.000000         79.0      1483   \n",
       "\n",
       "      ...  Polio  Total expenditure  Diphtheria    HIV/AIDS         GDP  \\\n",
       "0     ...    6.0               8.16         65.0        0.1  584.259210   \n",
       "1     ...   58.0               8.18         62.0        0.1  612.696514   \n",
       "2     ...   62.0               8.13         64.0        0.1  631.744976   \n",
       "3     ...   67.0               8.52         67.0        0.1  669.959000   \n",
       "4     ...   68.0               7.87         68.0        0.1   63.537231   \n",
       "...   ...    ...                ...          ...        ...         ...   \n",
       "2933  ...   67.0               7.13         65.0       33.6  454.366654   \n",
       "2934  ...    7.0               6.52         68.0       36.7  453.351155   \n",
       "2935  ...   73.0               6.53         71.0       39.8   57.348340   \n",
       "2936  ...   76.0               6.16         75.0       42.1  548.587312   \n",
       "2937  ...   78.0               7.10         78.0       43.5  547.358878   \n",
       "\n",
       "      Population   thinness  1-19 years   thinness 5-9 years  \\\n",
       "0     33736494.0                   17.2                 17.3   \n",
       "1       327582.0                   17.5                 17.5   \n",
       "2     31731688.0                   17.7                 17.7   \n",
       "3      3696958.0                   17.9                 18.0   \n",
       "4      2978599.0                   18.2                 18.2   \n",
       "...          ...                    ...                  ...   \n",
       "2933  12777511.0                    9.4                  9.4   \n",
       "2934  12633897.0                    9.8                  9.9   \n",
       "2935    125525.0                    1.2                  1.3   \n",
       "2936  12366165.0                    1.6                  1.7   \n",
       "2937  12222251.0                   11.0                 11.2   \n",
       "\n",
       "      Income composition of resources  Schooling  \n",
       "0                               0.479       10.1  \n",
       "1                               0.476       10.0  \n",
       "2                               0.470        9.9  \n",
       "3                               0.463        9.8  \n",
       "4                               0.454        9.5  \n",
       "...                               ...        ...  \n",
       "2933                            0.407        9.2  \n",
       "2934                            0.418        9.5  \n",
       "2935                            0.427       10.0  \n",
       "2936                            0.427        9.8  \n",
       "2937                            0.434        9.8  \n",
       "\n",
       "[2938 rows x 22 columns]"
      ]
     },
     "execution_count": 2,
     "metadata": {},
     "output_type": "execute_result"
    }
   ],
   "source": [
    "df = pd.read_csv('/workspaces/gf_projects.github.io/WHO_LifeExpectancy/Life Expectancy Data.csv')\n",
    "df\n"
   ]
  },
  {
   "cell_type": "markdown",
   "id": "4194d556",
   "metadata": {},
   "source": [
    "First taking a look at the data "
   ]
  },
  {
   "cell_type": "code",
   "execution_count": 3,
   "id": "f3b3337f",
   "metadata": {},
   "outputs": [
    {
     "name": "stdout",
     "output_type": "stream",
     "text": [
      "Column names (original): Index(['Country', 'Year', 'Status', 'Life expectancy ', 'Adult Mortality',\n",
      "       'infant deaths', 'Alcohol', 'percentage expenditure', 'Hepatitis B',\n",
      "       'Measles ', ' BMI ', 'under-five deaths ', 'Polio', 'Total expenditure',\n",
      "       'Diphtheria ', ' HIV/AIDS', 'GDP', 'Population',\n",
      "       ' thinness  1-19 years', ' thinness 5-9 years',\n",
      "       'Income composition of resources', 'Schooling'],\n",
      "      dtype='object')\n",
      "Column names (fixed): Index(['Country', 'Year', 'Status', 'Life expectancy', 'Adult Mortality',\n",
      "       'infant deaths', 'Alcohol', 'percentage expenditure', 'Hepatitis B',\n",
      "       'Measles', 'BMI', 'under-five deaths', 'Polio', 'Total expenditure',\n",
      "       'Diphtheria', 'HIV/AIDS', 'GDP', 'Population', 'thinness  1-19 years',\n",
      "       'thinness 5-9 years', 'Income composition of resources', 'Schooling'],\n",
      "      dtype='object')\n"
     ]
    }
   ],
   "source": [
    "#see initial column names\n",
    "print(f\"Column names (original): {df.columns}\")\n",
    "\n",
    "#removing trailing/leading spaces \n",
    "df.columns = df.columns.str.rstrip().str.lstrip()\n",
    "print(f\"Column names (fixed): {df.columns}\")\n"
   ]
  },
  {
   "cell_type": "code",
   "execution_count": 4,
   "id": "a8235ed7",
   "metadata": {},
   "outputs": [],
   "source": [
    "#pulling only select columns \n",
    "select_cols = df[['Country','Year','Status','Life expectancy','Measles','Schooling','HIV/AIDS','Alcohol']]\n",
    "\n",
    "df = select_cols"
   ]
  },
  {
   "cell_type": "code",
   "execution_count": 5,
   "id": "29ba8a8f",
   "metadata": {},
   "outputs": [
    {
     "name": "stdout",
     "output_type": "stream",
     "text": [
      "Country              0\n",
      "Year                 0\n",
      "Status               0\n",
      "Life expectancy     10\n",
      "Measles              0\n",
      "Schooling          163\n",
      "HIV/AIDS             0\n",
      "Alcohol            194\n",
      "dtype: int64\n"
     ]
    }
   ],
   "source": [
    "#finding how many missing items per column\n",
    "print(df.isnull().sum())\n"
   ]
  },
  {
   "cell_type": "markdown",
   "id": "b8538006",
   "metadata": {},
   "source": [
    "Lets also figure out how much data we would keep if we just got rid of all rows with NA values"
   ]
  },
  {
   "cell_type": "code",
   "execution_count": 6,
   "id": "4c73c36a",
   "metadata": {},
   "outputs": [
    {
     "name": "stdout",
     "output_type": "stream",
     "text": [
      "87.95098706603132\n"
     ]
    }
   ],
   "source": [
    "df_noNAs = df[['Country','Year','Status','Life expectancy','Measles','Schooling','HIV/AIDS','Alcohol']].dropna()\n",
    "df_noNAs\n",
    "\n",
    "print(len(df_noNAs) / len(df) *100)"
   ]
  },
  {
   "cell_type": "markdown",
   "id": "636df1a2",
   "metadata": {},
   "source": [
    "Ok now we need to decide what is the best course of action for dealing with the NA values. There is a good amount of them so we will start by looking at the overall distribution of the data across each group. "
   ]
  },
  {
   "cell_type": "code",
   "execution_count": 7,
   "id": "2248e7ba",
   "metadata": {},
   "outputs": [
    {
     "data": {
      "image/png": "[encoded data removed]",
      "text/plain": [
       "<Figure size 640x480 with 1 Axes>"
      ]
     },
     "metadata": {},
     "output_type": "display_data"
    },
    {
     "data": {
      "image/png": "[encoded data removed]",
      "text/plain": [
       "<Figure size 640x480 with 1 Axes>"
      ]
     },
     "metadata": {},
     "output_type": "display_data"
    },
    {
     "data": {
      "image/png": "[encoded data removed]",
      "text/plain": [
       "<Figure size 640x480 with 1 Axes>"
      ]
     },
     "metadata": {},
     "output_type": "display_data"
    }
   ],
   "source": [
    "sns.histplot(df_noNAs['Alcohol'])\n",
    "plt.show()\n",
    "\n",
    "sns.histplot(df_noNAs['Life expectancy'])\n",
    "plt.show()\n",
    "\n",
    "sns.histplot(df_noNAs['Schooling'])\n",
    "plt.show()\n"
   ]
  },
  {
   "cell_type": "markdown",
   "id": "10054cc0",
   "metadata": {},
   "source": [
    "As we can see, the distributions among the various categories is pretty different. Only schooling shows a fairly normal distribution. The other categories show a distinct lean towards higher or lower values, which does make sense generally. Now we can take a look at the distribution based on country Status."
   ]
  },
  {
   "cell_type": "code",
   "execution_count": 8,
   "id": "02616547",
   "metadata": {},
   "outputs": [
    {
     "data": {
      "image/png": "[encoded data removed]",
      "text/plain": [
       "<Figure size 640x480 with 1 Axes>"
      ]
     },
     "metadata": {},
     "output_type": "display_data"
    },
    {
     "data": {
      "image/png": "[encoded data removed]",
      "text/plain": [
       "<Figure size 640x480 with 1 Axes>"
      ]
     },
     "metadata": {},
     "output_type": "display_data"
    },
    {
     "data": {
      "image/png": "[encoded data removed]",
      "text/plain": [
       "<Figure size 640x480 with 1 Axes>"
      ]
     },
     "metadata": {},
     "output_type": "display_data"
    }
   ],
   "source": [
    "sns.histplot(data = df_noNAs, x = 'Alcohol', hue = 'Status')\n",
    "plt.show()\n",
    "\n",
    "\n",
    "sns.histplot(data = df_noNAs, x = 'Schooling', hue = 'Status')\n",
    "plt.show()\n",
    "\n",
    "sns.histplot(data = df_noNAs, x = 'Life expectancy', hue = 'Status')\n",
    "plt.show()"
   ]
  },
  {
   "cell_type": "markdown",
   "id": "c81de2a9",
   "metadata": {},
   "source": [
    "It appears that there are differences in the distributions between country Status types, which leads me to believe if we do mean imputation, it will need to be grouped by country status. But before we do that, we need to make sure these distributions are actually significantly different, basiscally checking to make sure what we see is real. "
   ]
  },
  {
   "cell_type": "code",
   "execution_count": 9,
   "id": "27894743",
   "metadata": {},
   "outputs": [
    {
     "name": "stdout",
     "output_type": "stream",
     "text": [
      "['Developing' 'Developed']\n"
     ]
    }
   ],
   "source": [
    "print(df['Status'].unique())"
   ]
  },
  {
   "cell_type": "code",
   "execution_count": 10,
   "id": "ad214014",
   "metadata": {},
   "outputs": [
    {
     "name": "stdout",
     "output_type": "stream",
     "text": [
      "Schooling\n",
      "T-statistic: -31.557902068007547\n",
      "P-value: 4.980038772014561e-187\n",
      "Reject the null hypothesis: There is a significant difference between group means.\n",
      "Life expectancy\n",
      "T-statistic: -29.76836505889292\n",
      "P-value: 2.4650861700062064e-170\n",
      "Reject the null hypothesis: There is a significant difference between group means.\n",
      "Alcohol\n",
      "T-statistic: -38.93305083547672\n",
      "P-value: 2.43666121862958e-264\n",
      "Reject the null hypothesis: There is a significant difference between group means.\n"
     ]
    }
   ],
   "source": [
    "#t test performed for schooling \n",
    "#https://stackoverflow.com/questions/13404468/t-test-in-pandas \n",
    "\n",
    "developing = df[df['Status'] == 'Developing']\n",
    "developed= df[df['Status'] == 'Developed']\n",
    "\n",
    "t_statistic, p_value = stats.ttest_ind(developing['Schooling'], developed['Schooling'], equal_var=True, nan_policy= 'omit')\n",
    "\n",
    "print('Schooling')     \n",
    "print(f\"T-statistic: {t_statistic}\")\n",
    "print(f\"P-value: {p_value}\")\n",
    "if p_value < 0.05:\n",
    "        print(\"Reject the null hypothesis: There is a significant difference between group means.\")\n",
    "else:\n",
    "        print(\"Fail to reject the null hypothesis: No significant difference found.\")\n",
    "\n",
    "\n",
    "t_statistic, p_value = stats.ttest_ind(developing['Life expectancy'], developed['Life expectancy'], equal_var=True, nan_policy= 'omit')\n",
    "\n",
    "print('Life expectancy')     \n",
    "print(f\"T-statistic: {t_statistic}\")\n",
    "print(f\"P-value: {p_value}\")\n",
    "if p_value < 0.05:\n",
    "        print(\"Reject the null hypothesis: There is a significant difference between group means.\")\n",
    "else:\n",
    "        print(\"Fail to reject the null hypothesis: No significant difference found.\")\n",
    "\n",
    "t_statistic, p_value = stats.ttest_ind(developing['Alcohol'], developed['Alcohol'], equal_var=True, nan_policy= 'omit')\n",
    "\n",
    "print('Alcohol')     \n",
    "print(f\"T-statistic: {t_statistic}\")\n",
    "print(f\"P-value: {p_value}\")\n",
    "if p_value < 0.05:\n",
    "        print(\"Reject the null hypothesis: There is a significant difference between group means.\")\n",
    "else:\n",
    "        print(\"Fail to reject the null hypothesis: No significant difference found.\")"
   ]
  },
  {
   "cell_type": "markdown",
   "id": "0775d1f8",
   "metadata": {},
   "source": [
    "We can see that there are significant differences between the means of the developed and developing countries. This tells us that we will need to mean impute based on group so as not to skew the data too much."
   ]
  },
  {
   "cell_type": "markdown",
   "id": "1b0324d4",
   "metadata": {},
   "source": [
    "Going to perform mean imputation by country status bc of the missing values for Schooling and Life expectancy. Schooling has a normal distributionm, but different for Developed vs Developing. While life expectancy is does not have a normal distribution, there are only 10 missing values, so it will not majory impact the mean. "
   ]
  },
  {
   "cell_type": "code",
   "execution_count": 11,
   "id": "ea3c35d5",
   "metadata": {},
   "outputs": [
    {
     "name": "stdout",
     "output_type": "stream",
     "text": [
      "group names ['Developed', 'Developing']\n"
     ]
    }
   ],
   "source": [
    "#first creating groups based on country \n",
    "group_df = df.groupby('Status')\n",
    "\n",
    "groupStatus_names = list(group_df.groups.keys())\n",
    "print(f'group names {groupStatus_names}')\n"
   ]
  },
  {
   "cell_type": "markdown",
   "id": "06b29801",
   "metadata": {},
   "source": [
    "Now I'm going to mean impute for Life expectancy and schooling based on the country status"
   ]
  },
  {
   "cell_type": "code",
   "execution_count": 12,
   "id": "1d344de7",
   "metadata": {},
   "outputs": [
    {
     "name": "stdout",
     "output_type": "stream",
     "text": [
      "Country              0\n",
      "Year                 0\n",
      "Status               0\n",
      "Life expectancy      0\n",
      "Measles              0\n",
      "Schooling            0\n",
      "HIV/AIDS             0\n",
      "Alcohol            194\n",
      "dtype: int64\n"
     ]
    },
    {
     "name": "stderr",
     "output_type": "stream",
     "text": [
      "/tmp/ipykernel_19515/2256589345.py:5: SettingWithCopyWarning: \n",
      "A value is trying to be set on a copy of a slice from a DataFrame.\n",
      "Try using .loc[row_indexer,col_indexer] = value instead\n",
      "\n",
      "See the caveats in the documentation: https://pandas.pydata.org/pandas-docs/stable/user_guide/indexing.html#returning-a-view-versus-a-copy\n",
      "  df['Life expectancy'] = df.groupby('Status')['Life expectancy'].transform(lambda x: x.fillna(x.mean()))\n",
      "/tmp/ipykernel_19515/2256589345.py:8: SettingWithCopyWarning: \n",
      "A value is trying to be set on a copy of a slice from a DataFrame.\n",
      "Try using .loc[row_indexer,col_indexer] = value instead\n",
      "\n",
      "See the caveats in the documentation: https://pandas.pydata.org/pandas-docs/stable/user_guide/indexing.html#returning-a-view-versus-a-copy\n",
      "  df['Schooling'] = df.groupby('Status')['Schooling'].transform(lambda x: x.fillna(x.mean()))\n"
     ]
    }
   ],
   "source": [
    "#mean impute for alcohol \n",
    "#df['Alcohol'] = df.groupby('Status')['Alcohol'].transform(lambda x: x.fillna(x.mean()))\n",
    "\n",
    "#life expectancy  \n",
    "df['Life expectancy'] = df.groupby('Status')['Life expectancy'].transform(lambda x: x.fillna(x.mean()))\n",
    "\n",
    "#schooling\n",
    "df['Schooling'] = df.groupby('Status')['Schooling'].transform(lambda x: x.fillna(x.mean()))\n",
    "\n",
    "#checking all to see if there are still any nas left \n",
    "print(df.isnull().sum())\n"
   ]
  },
  {
   "cell_type": "code",
   "execution_count": 77,
   "id": "5f29d507",
   "metadata": {},
   "outputs": [
    {
     "name": "stdout",
     "output_type": "stream",
     "text": [
      "Status\n",
      "Developing    166\n",
      "Developed      28\n",
      "dtype: int64\n"
     ]
    },
    {
     "name": "stderr",
     "output_type": "stream",
     "text": [
      "/tmp/ipykernel_2052/4134595969.py:2: FutureWarning: DataFrameGroupBy.apply operated on the grouping columns. This behavior is deprecated, and in a future version of pandas the grouping columns will be excluded from the operation. Either pass `include_groups=False` to exclude the groupings or explicitly select the grouping columns after groupby to silence this warning.\n",
      "  na_count_groups = df.groupby('Status').apply(lambda x: x.isna().sum())\n"
     ]
    }
   ],
   "source": [
    "#lets see whether certain countries are just missing a lot of data \n",
    "na_count_groups = df.groupby('Status').apply(lambda x: x.isna().sum())\n",
    "\n",
    "#sum across rows\n",
    "total_na_groups = na_count_groups.sum(axis = 1)\n",
    "\n",
    "#seeing countries with the most NAs remaining \n",
    "print(total_na_groups.nlargest(20))\n"
   ]
  },
  {
   "cell_type": "markdown",
   "id": "b4b973fe",
   "metadata": {},
   "source": [
    "Now that we've established there are remaining NA values, we're going to check whether it is possible to just get rid of the NA values rather than doing another round of mean imputation. "
   ]
  },
  {
   "cell_type": "code",
   "execution_count": 78,
   "id": "b3793cef",
   "metadata": {},
   "outputs": [
    {
     "name": "stdout",
     "output_type": "stream",
     "text": [
      "93.39686861810755\n"
     ]
    }
   ],
   "source": [
    "df_noNAs = df[['Country','Year','Status','Life expectancy','Measles','Schooling','HIV/AIDS','Alcohol']].dropna()\n",
    "df_noNAs\n",
    "\n",
    "print(len(df_noNAs) / len(df) *100)"
   ]
  },
  {
   "cell_type": "markdown",
   "id": "47b20bf7",
   "metadata": {},
   "source": [
    "Looks like we'd still have 93% of the data after dropping the NAs from the Alcohol column "
   ]
  }
 ],
 "metadata": {
  "kernelspec": {
   "display_name": "Python 3",
   "language": "python",
   "name": "python3"
  },
  "language_info": {
   "codemirror_mode": {
    "name": "ipython",
    "version": 3
   },
   "file_extension": ".py",
   "mimetype": "text/x-python",
   "name": "python",
   "nbconvert_exporter": "python",
   "pygments_lexer": "ipython3",
   "version": "3.12.1"
  }
 },
 "nbformat": 4,
 "nbformat_minor": 5
}
